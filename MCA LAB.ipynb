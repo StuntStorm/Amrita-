[
 "cells": [
  {
   "cell_type": "code",
   "execution_count": 4,
   "id": "a9062213",
   "metadata": {},
   "outputs": [
    {
     "name": "stdout",
     "output_type": "stream",
     "text": [
      "['USA' 'NON-USA' 'USA' 'USA' 'USA' 'NON-USA' 'USA' 'USA' 'NON-USA' 'USA'\n",
      " 'USA' 'USA' 'USA' 'USA' 'USA' 'NON-USA' 'USA' 'NON-USA' 'USA' 'USA' 'USA'\n",
      " 'USA' 'NON-USA' 'USA' 'USA' 'USA' 'NON-USA' 'USA' 'NON-USA' 'NON-USA'\n",
      " 'USA' 'USA' 'USA' 'NON-USA' 'NON-USA' 'USA' 'USA' 'USA' 'USA' 'NON-USA'\n",
      " 'USA' 'USA' 'USA' 'NON-USA' 'NON-USA' 'USA' 'USA' 'USA' 'USA' 'USA' 'USA'\n",
      " 'USA' 'USA' 'USA' 'USA' 'NON-USA' 'NON-USA' 'USA' 'USA' 'USA']\n",
      "Training accuracy: 0.31666666666666665\n",
      "Test accuracy: 0.4\n",
      "\n",
      "Training accuracy: 0.31666666666666665\n",
      "Test accuracy: 0.4\n",
      "\n",
      "Training accuracy: 0.8277777777777777\n",
      "Test accuracy: 0.8833333333333333\n",
      "\n",
      "Training accuracy: 0.85\n",
      "Test accuracy: 0.9\n",
      "\n",
      "Training accuracy: 0.8611111111111112\n",
      "Test accuracy: 0.9\n",
      "\n",
      "Training accuracy: 0.8555555555555555\n",
      "Test accuracy: 0.8833333333333333\n",
      "\n"
     ]
    },
    {
     "data": {
      "image/png": "iVBORw0KGgoAAAANSUhEUgAAATkAAAEGCAYAAAAezeKJAAAAOXRFWHRTb2Z0d2FyZQBNYXRwbG90bGliIHZlcnNpb24zLjUuMSwgaHR0cHM6Ly9tYXRwbG90bGliLm9yZy/YYfK9AAAACXBIWXMAAAsTAAALEwEAmpwYAAAXJklEQVR4nO3debxVZb3H8c/3AIoMmoQaqYmmWWqJBmaZN5xw6kZamNarKE2sm2VlJukttbJrWZlZlzwOSYMYJs6WGYVoDkBmipLXIS4iXE1zQETl7P27f6wFHumcvdc+rD2t8337Wq+z97P2evYPeZ0fz7OeYSkiMDMrqo5mB2BmVk9OcmZWaE5yZlZoTnJmVmhOcmZWaAObHUBvztzmIx72bWNLtbrZIVgfTVs8U325bvWTj2T+nR00crs+fUdftGySM7M2Uy41O4IeOcmZWT6i3OwIeuQkZ2b5KDvJmVmBhVtyZlZopa5mR9AjJzkzy4cHHsys0NxdNbNC88CDmRWZBx7MrNjckjOzQiu15lI+Jzkzy4e7q2ZWaO6umlmhuSVnZoXmlpyZFVmUPfBgZkXmlpyZFVqL3pPzMx7MLB/lUvajCkmDJc2T9FdJ90k6Iy0fIekmSQ+mPzetVpeTnJnlI8rZj+peAvaNiF2BMcBBkvYEpgKzI2IHYHb6viInOTPLR7mc/agiEs+nbwelRwATgelp+XTg/dXqcpIzs3yUujIfkqZIWtDtmLJudZIGSLobeAK4KSLuBLaIiOUA6c/Nq4XlgQczy0cNo6sR0Ql0VvlMCRgj6TXAlZJ26UtYTnJmloskJ9Wj3nhG0hzgIOBxSaMiYrmkUSStvIrcXTWzfOR4T07SZmkLDkkbAfsDfwOuASanH5sMXF2tLrfkzCwf+c6TGwVMlzSApDE2MyKuk3Q7MFPSMcASYFK1ipzkzCwfOa54iIh7gN16KH8K2K+WupzkzCwffiShmRVaiy7rcpIzs3x4gb6ZFZqTnJkVmrurZlZoHngws0Jzd9XMCs3dVTMrNLfkzKzQnOTMrNAimh1Bj5zkzCwfXR5dNbMi88CDmRWa78mZWaH5npyZFZpbcmZWaE5yZlZkUarPg2zWl5OcmeXDLTkzKzRPITGzQit7dNXMiszdVTMrNA889F/vPftYtt93N1Y+9RwXTJgKwHtO/CA7HPB2KAcrn3qOa0/8Cc8/8UxzA7V/8dHvfJq37rs7K556lm8c+CUAdj9kTw79/CRet/2WfHviKSy595EmR9kiWrQl19HsAPqDv15+C5dN/s6rym4//3ouPOgrXHjIKTw4+y/sfcLhTYrOKrn913M4b/K3XlW27IFH6fzUd3lo3qImRdWiypH9aCC35Brg0Xl/Y5OtRr6q7OXnV619vcGQDYkWXRLT3z00bxEjttrsVWX/9/BjTYqmxfW30VVJbwYmAlsCASwDrokI//OXGn/SJN56+N68uOIFfnnkmc0Ox2z9tOjoal26q5JOBi4DBMwD5qevZ0iaWuG6KZIWSFow//mH6hFaS5lz9uWc987Pcd9VtzF28oRmh2O2XqJcznxUI2lrSX+UtEjSfZJOSMtPl/SYpLvT45BqddXrntwxwLiIOCsifpEeZwF7pOd6FBGdETE2IsaOG7Z9nUJrPQuvvo0dDx7X7DDM1k+plP2orgs4MSLeAuwJfEbSTum5cyJiTHrcUK2ieiW5MvD6HspHpef6vU1Hb7H29ZsO2J2nHl7exGjMcpDjwENELI+Iu9LXK4BFJLe+alave3KfB2ZLehB4NC17A7A9cHydvrNlvf+Hn2Gbd76FjTYdzmfvOI+55/ya7fcZw4jtRhHl4LnHnuQ3p1zc7DCtB0f/8ATetOdODNt0ON+6fRrXnTOTlc8+z4dOP5phIzbmMxdPZemixZz3sW9Vr6zoaphCImkKMKVbUWdEdPby2dHAbsCdwF7A8ZI+Biwgae09XfG76jWqJ6mDpHu6Jcn9uKXA/IjI1FY9c5uPtOZdTMtkqVY3OwTro2mLZ6ov16382pGZf2eHfv2yTN8haRhwM3BmRMyStAXwJMlg5jeAURFxdKU66ja6GhFl4I561W9mLSbnKSSSBgFXAL+MiFkAEfF4t/MXANdVq8fz5MwsHzlOIZEk4CJgUUR8v1v5qIhYcwP7MGBhtbqc5MwsF9GV69rVvYCPAvdKujstOwU4StIYku7qYuC4ahU5yZlZPnJsyUXErST38tdVdcrIupzkzCwf/W1Zl5n1My26rMtJzsxyEU5yZlZo+Q485MZJzszy4ZacmRWak5yZFVmrbvzqJGdm+XBLzswKzUnOzIosujwZ2MyKrDVznJOcmeXDk4HNrNic5Mys0NxdNbMic3fVzAotupzkzKzIWrS7WvW5q5ImSRqevv5PSbMk7V7/0MysnUQ5+9FIWR4u/dWIWCHp3cCBwHRgWn3DMrO2U67haKAsSW7NJlGHAtMi4mpgg/qFZGbtqFVbclnuyT0m6Xxgf+DbkjYkW3I0s34kupodQc+yJKsjgBuBgyLiGWAEcFI9gzKz9tOqLbmqSS4iXgCeAN6dFnUBD9YzKDNrP62a5Kp2VyWdBowFdgR+CgwCfkHy8Fczs0T09JjU5styT+4wYDfgLoCIWLZmSomZ2Rot+tjVTEnu5YgISQEgaWidYzKzNhTl9m3JzUxHV18j6VjgaOCC+oZlZu2mXGrTJBcR35V0APAcyX25r0XETXWPzMzaSp7dVUlbAz8DXkcyfbgzIs6VNAL4FTAaWAwcERFPV6or09rVNKk5sZlZr3LurnYBJ0bEXekYwJ8l3QR8HJgdEWdJmgpMBU6uVFGW0dUVwJrtBTYgGV1dGREbr8cfwMwKJs8nEkbEcmB5+nqFpEXAlsBEYHz6senAHNY3yUXEq0ZSJb0f2KPGmM2s4Oo18CBpNMkMjzuBLdIESEQsl7R5tetrXp4VEVcB+9Z6nZkVW7mkzIekKZIWdDum9FSnpGHAFcDnI+K5vsSVpbt6eLe3HSQTg1tzdzwza5paWnIR0Ql0VvqMpEEkCe6XETErLX5c0qi0FTeKZDVWRVkGHv692+sukhGNiRmuM7N+JHJc8SBJwEXAooj4frdT1wCTgbPSn1dXqyvLPblP9DFOM+tHcl7xsBfwUeBeSXenZaeQJLeZko4BlgCTqlXUa5KTdB4VuqUR8bkaAjazgivn2JKLiFuB3ircr5a6KrXkFtRSkZn1b3l2V/PUa5KLiOmNDMTM2lvbLuuStBnJZLudgMFryiPC00jMbK1WXaCfZZ7cL4FFwLbAGSSjq/PrGJOZtaFyKPPRSFmS3Gsj4iJgdUTcHBFHA3vWOS4zazMRynw0UpZ5cqvTn8slHQosA7aqX0hm1o7yXLuap0pTSAZFxGrgm5I2AU4EzgM2Br7QoPjMrE00uhuaVaWW3GOSrgZmAM9FxEJgn8aEZWbtptyGAw9vIZkr91XgUUk/kPSOxoRlZu2mVQceFBk60pJeT7J84khgc+CyiDi1noEN3GDLFu3hWxarlt3S7BCsjwaN3K5PWWj+lodl/p0d99iVDct0mbZaiohlJItlpwErgE/WMygzaz+t2pKrmOQkDZY0SdIs4GGSNWNfAV7fiODMrH1EDUcjVRpdvRTYH5gLXAp8OCJebFRgZtZeSuWa9+BtiEqjqzcCx0XEikYFY2btq0WfLe0F+maWj+h1Z6TmyvRIQjOzasotOh/CSc7MclFu55acpHeRPLF67ecj4md1isnM2lDbdlcl/Rx4I3A3UEqLA3CSM7O1Su2a5EgeQbhTZFkaYWb9VquOrmaZ2LIQeF29AzGz9lau4WikSpOBryXplg4H7pc0D3hpzfmIeF/9wzOzdtGO9+S+27AozKzttehOSxUnA98MIOnbEXFy93OSvg3cXOfYzKyNtOoUkiz35A7ooezgvAMxs/ZWquFopEr35D4N/AfwRkn3dDs1HLit3oGZWXspqzVbcpXuyV0K/Ab4L2Bqt/IVEfHPukZlZm2nVeeYVbon9yzwrKST1zk1TNKwiFhS39DMrJ206jy5LJOBrydJ0gIGkzxk+gFg5zrGZWZtJs/RVUkXA+8FnoiIXdKy04FjgX+kHzslIm6oVlfVJBcRb13ny3cHjqsxZjMruJyXdV0C/Ih/XT56TkTUNL2t5l1IIuIuSeNqvc7Mii3PllxEzJU0Oo+6sizQ/2K3tx3A7rzSXDQzA2q7JydpCjClW1FnRHRmuPR4SR8jeVzqiRHxdLULssyTG97t2JDkHt3EDNeZWT9Sy4NsIqIzIsZ2O7IkuGkkOyKNAZYD38sSV8WWnKQBwLCIOClLZWbWf9V7WVdEPL7mtaQLgOuyXNdrS07SwIgokXRPzcwqqvcuJJJGdXt7GMkOSVVVasnNI0lwd0u6BrgcWLnmZETM6kOcZlZQpXynkMwAxgMjJS0FTgPGSxpD0uNdTMZZHllGV0cATwH78sp8uQCc5MxsrTwnA0fEUT0UX9SXuioluc3TkdWFvJLc1sbQly8zs+JqxxUPA4Bh0OMMPyc5M3uVVk0KlZLc8oj4esMiMbO21nabZtJzC87MrEft2F3dr2FRmFnba/RmmFlV2mrJe8aZWWbt2F01M8usHburZmaZtePoqplZZuUWTXNOcmaWi7YbeDAzq4XvyZlZoXl01cwKzffkzKzQWjPFOcmZWU58T87MCq3Uom05Jzkzy4VbcmZWaB54MLNCa80U5yRnZjlxd9XMCs0DD2ZWaL4nZwBsuOGGzPnDFWyw4YYMHDiAWbOu54yvf6/ZYVkvXnrpZSZ/5iReXr2aUleJA/Z5N8d/8qOc1/kz/nDr7XSogxGbbsKZp57I5pu9ttnhNlVrpjhQRGuGNnCDLVszsBwMHTqElStfYODAgcydcyVf+OJp3DnvrmaHlatVy25pdgi5iAhWrXqRIUM2YnVXFx/79JeYesJxvHHbNzBs6FAAfnH51Tz89yWc9uXPNjnafAwauV2fVqEeN3pS5t/Z8xdf3rCVrm7JNcHKlS8AMGjQQAYOGkSr/kNjIIkhQzYCoKuri66uLiStTXAAq1a9iFp0cXojeeDB1uro6GDenb9l+zeOZtpPLmHe/L80OySroFQqccTRn2PJY8s46vD38rad3wzAuedfwjW/nc3woUO5+Lyzmhxl80WLdlg7Gv2Fkj5R4dwUSQskLSiXVzYyrIYql8uMHTeBbbYdy7ixu7Hzzjs2OySrYMCAAVwx/cfMvvLn3Hv///DgI4sBOOG4jzP7yp9z6IR9uPSKa5sbZAsoEZmPRmp4kgPO6O1ERHRGxNiIGNvRMbS3jxXGs88+x81zb+PACeObHYplsPHwYYzb/W3ceseCV5UfOmE8v5/zpyZF1TrKNRzVSLpY0hOSFnYrGyHpJkkPpj83zRJXXZKcpHt6Oe4FtqjHd7aLkSNHsMkmGwMwePBg9tt3bx544OEmR2W9+efTz/DciucBePGll7hj/l/Ydput+d9HH1v7mT/ecgfbbrNVs0JsGeWIzEcGlwAHrVM2FZgdETsAs9P3VdXrntwWwIHA0+uUC7itTt/ZFkaN2oKLL/oBAwZ00NHRwa9/fS3X3/D7ZodlvfjHU09z6je/S6lcJsrBgfvuzfi93sHnT/kmi5csRR3i9a/bnK+dVIyR1fWRZyc0IuZKGr1O8URgfPp6OjAHOLlaXXWZQiLpIuCnEXFrD+cujYgPV6ujyFNI+oOiTCHpj/o6heTD2xyW+Xd2xpKrjgOmdCvqjIjO7p9Jk9x1EbFL+v6ZiHhNt/NPR0TVLmtdWnIRcUyFc1UTnJm1n1pGV9OE1ln1gznwFBIzy0VX/UdNH5c0KiKWSxoFPJHlomaMrppZAUUN//XRNcDk9PVk4OosF7klZ2a5yHPFg6QZJIMMIyUtBU4DzgJmSjoGWAJMylKXk5yZ5SLPQcyIOKqXU/vVWpeTnJnlwlstmVmhedNMMys0t+TMrNBadcswJzkzy4X3kzOzQmvV/eSc5MwsF74nZ2aFVorW7LA6yZlZLtxdNbNCy7gZZsM5yZlZLlozxTnJmVlOPPBgZoXmJGdmhebRVTMrNI+umlmhee2qmRWa78mZWaG5JWdmhVZq0X1InOTMLBde8WBmhebRVTMrNLfkzKzQ3JIzs0JzS87MCs3Lusys0NxdNbNCC7fkzKzI8l7WJWkxsAIoAV0RMbYv9TjJmVku6rSsa5+IeHJ9KnCSM7NctOoC/Y5mB2BmxVAqlzMfkqZIWtDtmNJDlQH8TtKfezmfiVtyZpaLWkZXI6IT6Kzysb0iYpmkzYGbJP0tIubWGpdbcmaWi4jIfGSsb1n68wngSmCPvsTlJGdmuSgTmY9qJA2VNHzNa2ACsLAvcbm7ama5yHl0dQvgSkmQ5KlLI+K3fanISc7MclEq5zcZOCIeAXbNoy4nOTPLRatOIXGSM7Nc+BkPZlZo3mrJzArNu5CYWaG5JWdmhVb2VktmVmQeeDCzQnOSM7NCa80UB2rV7Ft0kqakOzFYG/LfX/vwAv3m6fP+WNYS/PfXJpzkzKzQnOTMrNCc5JrH93Pam//+2oQHHsys0NySM7NCc5Izs0JzkmswSQdJekDSQ5KmNjseq42kiyU9IalPzxuwxnOSayBJA4AfAwcDOwFHSdqpuVFZjS4BDmp2EJadk1xj7QE8FBGPRMTLwGXAxCbHZDVIn/v5z2bHYdk5yTXWlsCj3d4vTcvMrE6c5BpLPZR5Do9ZHTnJNdZSYOtu77cCljUpFrN+wUmuseYDO0jaVtIGwJHANU2OyazQnOQaKCK6gOOBG4FFwMyIuK+5UVktJM0Abgd2lLRU0jHNjskq87IuMys0t+TMrNCc5Mys0JzkzKzQnOTMrNCc5Mys0Jzk2pCkkqS7JS2UdLmkIetR1yWSPpi+vrDShgGSxkt6Vx++Y7GkkT1873HrlL1f0g1ZYjXLykmuPa2KiDERsQvwMvCp7ifT3U5qFhGfjIj7K3xkPFBzkuvFDJLJ0N0dmZab5cZJrv3dAmyftrL+KOlS4F5JAySdLWm+pHvWtJqU+JGk+yVdD2y+piJJcySNTV8fJOkuSX+VNFvSaJJk+oW0Fbm3pM0kXZF+x3xJe6XXvlbS7yT9RdL59Lxm9/fAmyWNSq8ZAuwPXCXpa2l9CyV1SvqX67u3DiWNlTQnfT003fNtfvr9E9PynSXNS2O/R9IOefzPt9bnJNfGJA0k2Zvu3rRoD+DUiNgJOAZ4NiLGAeOAYyVtCxwG7Ai8FTiWHlpmkjYDLgA+EBG7ApMiYjHwE+CctBV5C3Bu+n4c8AHgwrSK04BbI2I3kmVrb1j3OyKiBMwCjkiL3gf8MSJWAD+KiHFpS3Uj4L01/G85FfhDGtM+wNmShpIk6HMjYgwwlmQdsfUDA5sdgPXJRpLuTl/fAlxEkqzmRcTf0/IJwNu63cPaBNgB+DdgRppklkn6Qw/17wnMXVNXRPS2f9r+wE7dGlobSxqefsfh6bXXS3q6l+tnAGeTJMsjgZ+l5ftI+jIwBBgB3Adc20sd65oAvE/Sl9L3g0mS7O3AqZK2AmZFxIMZ67M25yTXnlalLZK10kSzsnsR8NmIuHGdzx1C9e2dlOEzkPQE3hkRq3qIJcv1fwJGSdqVJEkfKWkw8N/A2Ih4VNLpJIlqXV280hPpfl4kLdAH1vn8Ikl3AocCN0r6ZET0lOCtYNxdLa4bgU9LGgQg6U1pt20uSTIZkN4P26eHa28H3pN2b5E0Ii1fAQzv9rnfkWw4QPq5MenLucBH0rKDgU17CjCShdMzgenADRHxIq8krCclDQN6G01dDLw9ff2Bdf7cn11zH0/SbunP7YBHIuKHJF3ot/VSrxWMk1xxXQjcD9yVPnTlfJKW+5XAgyT38aYBN697YUT8A5gCzJL0V+BX6alrgcPWDDwAnwPGpjfy7+eVUd4zgH+TdBdJ93FJhThnALuSbAVPRDxDcj/wXuAqku2penIGcK6kW4BSt/JvAIOAe9I/9zfS8g8BC9Nu/pt5pWtsBeddSMys0NySM7NCc5Izs0JzkjOzQnOSM7NCc5Izs0JzkjOzQnOSM7NC+39LJJLqJE2XoAAAAABJRU5ErkJggg==\n",
      "text/plain": [
       "<Figure size 360x288 with 2 Axes>"
      ]
     },
     "metadata": {
      "needs_background": "light"
     },
     "output_type": "display_data"
    }
   ],
   "source": [
    "import numpy as np\n",
    "import matplotlib.pyplot as plt\n",
    "import pandas as pd\n",
    "from pandas import read_csv\n",
    "from sklearn import preprocessing\n",
    "from sklearn.linear_model import LogisticRegression\n",
    "from sklearn.model_selection import train_test_split\n",
    "from sklearn.preprocessing import StandardScaler\n",
    "from sklearn.metrics import confusion_matrix\n",
    "import seaborn as sn\n",
    "\n",
    "testset_url = r'C:\\Users\\Minirobo\\Desktop\\lab4\\mpg_testset.csv'\n",
    "trainset_url = r'C:\\Users\\Minirobo\\Desktop\\lab4\\mpg_trainset.csv'\n",
    "\n",
    "testData = read_csv(testset_url)\n",
    "trainData = read_csv(trainset_url)\n",
    "\n",
    "trainData['origin'].replace([1, 2, 3], ['USA', 'NON-USA', 'NON-USA'], inplace=True)\n",
    "\n",
    "trainData = pd.DataFrame(trainData)\n",
    "\n",
    "X_train, X_test, y_train, y_test = train_test_split(\n",
    "    trainData[['mpg', 'cylinders', 'displacement', 'horsepower', 'weight', 'acceleration', 'year']], \n",
    "    trainData['origin'], test_size=0.25, random_state=0\n",
    ")\n",
    "\n",
    "sc = StandardScaler()\n",
    "X_train = sc.fit_transform(X_train)\n",
    "X_test = sc.transform(X_test)\n",
    "\n",
    "classifier = LogisticRegression(C=0.1)\n",
    "classifier.fit(X_train, y_train)\n",
    "\n",
    "y_pred = classifier.predict(X_test)\n",
    "print(y_pred)\n",
    "\n",
    "C = [0.001, 0.01, 0.1, 1, 10, 100]\n",
    "\n",
    "for c in C:\n",
    "    clf = LogisticRegression(penalty='l1', C=c, solver='liblinear', max_iter=200)\n",
    "    clf.fit(X_train, y_train)\n",
    "    print('Training accuracy:', clf.score(X_train, y_train))\n",
    "    print('Test accuracy:', clf.score(X_test, y_test))\n",
    "    print(\"\")\n",
    "\n",
    "\n",
    "conf_matx = confusion_matrix(y_test, y_pred)\n",
    "\n",
    "plt.figure(figsize=(5,4))\n",
    "sn.heatmap(conf_matx, annot=True)\n",
    "plt.xlabel(\"Predicted Values\")\n",
    "plt.ylabel(\"Truth Values\")\n",
    "plt.show()"
   ]
  },
  {
   "cell_type": "code",
   "execution_count": 5,
   "id": "eb3d9b29",
   "metadata": {},
   "outputs": [
    {
     "data": {
      "image/png": "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\n",
      "text/plain": [
       "<Figure size 360x288 with 2 Axes>"
      ]
     },
     "metadata": {
      "needs_background": "light"
     },
     "output_type": "display_data"
    }
   ],
   "source": [
    "import numpy as np\n",
    "import pandas as pd\n",
    "import seaborn as sn\n",
    "from sklearn import linear_model\n",
    "from sklearn.metrics import confusion_matrix\n",
    "from sklearn.model_selection import train_test_split\n",
    "from matplotlib import pyplot as plt\n",
    "\n",
    "# testset_url = r'C:\\Users\\Minirobo\\Desktop\\lab4\\mpg_testset.csv'\n",
    "\n",
    "trainset_url = r'C:\\Users\\Minirobo\\Desktop\\lab4\\mpg_trainset.csv'\n",
    "\n",
    "# testData = pd.read_csv(testset_url)\n",
    "data = pd.read_csv(trainset_url)\n",
    "\n",
    "data['origin'].replace([1, 2, 3], ['USA', 'EUROPE', 'JAPAN'], inplace=True)\n",
    "\n",
    "data[\"origin\"] = data[\"origin\"].replace({\"USA\": 1, \"EUROPE\": 2, \"JAPAN\": 3})\n",
    "\n",
    "X_train, X_test, y_train, y_test = train_test_split(\n",
    "    data[['mpg', 'cylinders', 'displacement', 'horsepower', 'weight', 'acceleration', 'year']],\n",
    "    data['origin'],\n",
    "    test_size=0.25, random_state=0)\n",
    "\n",
    "model = linear_model.LogisticRegression(multi_class=\"ovr\", C=0.1, max_iter=180)\n",
    "model.fit(X_train, y_train)\n",
    "\n",
    "y_pred = model.predict(X_test)\n",
    "# print(model.score(X_test, y_test))\n",
    "\n",
    "conf_matx = confusion_matrix(y_test, y_pred)\n",
    "\n",
    "plt.figure(figsize=(5,4))\n",
    "sn.heatmap(conf_matx, annot=True)\n",
    "plt.xlabel(\"Predicted Values\")\n",
    "plt.ylabel(\"Truth Values\")\n",
    "plt.show()\n"
   ]
  },
  {
   "cell_type": "code",
   "execution_count": null,
   "id": "2f8efeb2",
   "metadata": {},
   "outputs": [],
   "source": []
  }
 ],
 "metadata": {
  "kernelspec": {
   "display_name": "Python 3 (ipykernel)",
   "language": "python",
   "name": "python3"
  },
  "language_info": {
   "codemirror_mode": {
    "name": "ipython",
    "version": 3
   },
   "file_extension": ".py",
   "mimetype": "text/x-python",
   "name": "python",
   "nbconvert_exporter": "python",
   "pygments_lexer": "ipython3",
   "version": "3.9.12"
  }
 },
 "nbformat": 4,
 "nbformat_minor": 5
}
